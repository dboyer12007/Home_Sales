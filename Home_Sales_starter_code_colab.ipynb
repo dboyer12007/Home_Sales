{
 "cells": [
  {
   "cell_type": "code",
   "execution_count": 2,
   "metadata": {
    "colab": {
     "base_uri": "https://localhost:8080/"
    },
    "id": "a_KW73O2e3dw",
    "outputId": "8517eedf-6c12-47cb-c0f8-e68fc3709589"
   },
   "outputs": [
    {
     "name": "stdout",
     "output_type": "stream",
     "text": [
      "\r",
      "0% [Working]\r",
      "            \r",
      "Hit:1 https://developer.download.nvidia.com/compute/cuda/repos/ubuntu2204/x86_64  InRelease\n",
      "\r",
      "0% [Connecting to archive.ubuntu.com (185.125.190.82)] [Connecting to security.ubuntu.com (91.189.91\r",
      "                                                                                                    \r",
      "Hit:2 https://cloud.r-project.org/bin/linux/ubuntu jammy-cran40/ InRelease\n",
      "\r",
      "0% [Waiting for headers] [Connecting to security.ubuntu.com (91.189.91.81)] [Waiting for headers] [C\r",
      "                                                                                                    \r",
      "Hit:3 http://security.ubuntu.com/ubuntu jammy-security InRelease\n",
      "\r",
      "0% [Waiting for headers] [Waiting for headers] [Connected to ppa.launchpadcontent.net (185.125.190.8\r",
      "                                                                                                    \r",
      "Hit:4 http://archive.ubuntu.com/ubuntu jammy InRelease\n",
      "Hit:5 https://r2u.stat.illinois.edu/ubuntu jammy InRelease\n",
      "Hit:6 http://archive.ubuntu.com/ubuntu jammy-updates InRelease\n",
      "Hit:7 http://archive.ubuntu.com/ubuntu jammy-backports InRelease\n",
      "Hit:8 https://ppa.launchpadcontent.net/deadsnakes/ppa/ubuntu jammy InRelease\n",
      "Hit:9 https://ppa.launchpadcontent.net/graphics-drivers/ppa/ubuntu jammy InRelease\n",
      "Hit:10 https://ppa.launchpadcontent.net/ubuntugis/ppa/ubuntu jammy InRelease\n",
      "Reading package lists... Done\n",
      "W: Skipping acquire of configured file 'main/source/Sources' as repository 'https://r2u.stat.illinois.edu/ubuntu jammy InRelease' does not seem to provide it (sources.list entry misspelt?)\n"
     ]
    }
   ],
   "source": [
    "import os\n",
    "# Find the latest version of spark 3.x  from http://www.apache.org/dist/spark/ and enter as the spark version\n",
    "# For example:\n",
    "# spark_version = 'spark-3.5.4'\n",
    "spark_version = 'spark-3.5.4'\n",
    "os.environ['SPARK_VERSION']=spark_version\n",
    "\n",
    "# Install Spark and Java\n",
    "!apt-get update\n",
    "!apt-get install openjdk-11-jdk-headless -qq > /dev/null\n",
    "!wget -q http://www.apache.org/dist/spark/$SPARK_VERSION/$SPARK_VERSION-bin-hadoop3.tgz\n",
    "!tar xf $SPARK_VERSION-bin-hadoop3.tgz\n",
    "!pip install -q findspark\n",
    "\n",
    "# Set Environment Variables\n",
    "os.environ[\"JAVA_HOME\"] = \"/usr/lib/jvm/java-11-openjdk-amd64\"\n",
    "os.environ[\"SPARK_HOME\"] = f\"/content/{spark_version}-bin-hadoop3\"\n",
    "\n",
    "# Start a SparkSession\n",
    "import findspark\n",
    "findspark.init()"
   ]
  },
  {
   "cell_type": "code",
   "execution_count": 3,
   "metadata": {
    "id": "2XbWNf1Te5fM"
   },
   "outputs": [],
   "source": [
    "# Import packages\n",
    "from pyspark.sql import SparkSession\n",
    "import time\n",
    "\n",
    "# Create a SparkSession\n",
    "spark = SparkSession.builder.appName(\"SparkSQL\").getOrCreate()"
   ]
  },
  {
   "cell_type": "code",
   "execution_count": 7,
   "metadata": {
    "colab": {
     "base_uri": "https://localhost:8080/"
    },
    "id": "wOJqxG_RPSwp",
    "outputId": "3fdbefe8-6fa6-448d-c23f-0f702dd7c4a3"
   },
   "outputs": [
    {
     "name": "stdout",
     "output_type": "stream",
     "text": [
      "+--------------------+----------+----------+------+--------+---------+-----------+--------+------+----------+----+\n",
      "|                  id|      date|date_built| price|bedrooms|bathrooms|sqft_living|sqft_lot|floors|waterfront|view|\n",
      "+--------------------+----------+----------+------+--------+---------+-----------+--------+------+----------+----+\n",
      "|f8a53099-ba1c-47d...|2022-04-08|      2016|936923|       4|        3|       3167|   11733|     2|         1|  76|\n",
      "|7530a2d8-1ae3-451...|2021-06-13|      2013|379628|       2|        2|       2235|   14384|     1|         0|  23|\n",
      "|43de979c-0bf0-4c9...|2019-04-12|      2014|417866|       2|        2|       2127|   10575|     2|         0|   0|\n",
      "|b672c137-b88c-48b...|2019-10-16|      2016|239895|       2|        2|       1631|   11149|     2|         0|   0|\n",
      "|e0726d4d-d595-407...|2022-01-08|      2017|424418|       3|        2|       2249|   13878|     2|         0|   4|\n",
      "|5aa00529-0533-46b...|2019-01-30|      2017|218712|       2|        3|       1965|   14375|     2|         0|   7|\n",
      "|131492a1-72e2-4a8...|2020-02-08|      2017|419199|       2|        3|       2062|    8876|     2|         0|   6|\n",
      "|8d54a71b-c520-44e...|2019-07-21|      2010|323956|       2|        3|       1506|   11816|     1|         0|  25|\n",
      "|e81aacfe-17fe-46b...|2020-06-16|      2016|181925|       3|        3|       2137|   11709|     2|         0|  22|\n",
      "|2ed8d509-7372-46d...|2021-08-06|      2015|258710|       3|        3|       1918|    9666|     1|         0|  25|\n",
      "|f876d86f-3c9f-42b...|2019-02-27|      2011|167864|       3|        3|       2471|   13924|     2|         0|  15|\n",
      "|0a2bd445-8508-4d8...|2021-12-30|      2014|337527|       2|        3|       1926|   12556|     1|         0|  23|\n",
      "|941bad30-eb49-4a7...|2020-05-09|      2015|229896|       3|        3|       2197|    8641|     1|         0|   3|\n",
      "|dd61eb34-6589-4c0...|2021-07-25|      2016|210247|       3|        2|       1672|   11986|     2|         0|  28|\n",
      "|f1e4cef7-d151-439...|2019-02-01|      2011|398667|       2|        3|       2331|   11356|     1|         0|   7|\n",
      "|ea620c7b-c2f7-4c6...|2021-05-31|      2011|437958|       3|        3|       2356|   11052|     1|         0|  26|\n",
      "|f233cb41-6f33-4b0...|2021-07-18|      2016|437375|       4|        3|       1704|   11721|     2|         0|  34|\n",
      "|c797ca12-52cd-4b1...|2019-06-08|      2015|288650|       2|        3|       2100|   10419|     2|         0|   7|\n",
      "|0cfe57f3-28c2-472...|2019-10-04|      2015|308313|       3|        3|       1960|    9453|     2|         0|   2|\n",
      "|4566cd2a-ac6e-435...|2019-07-15|      2016|177541|       3|        3|       2130|   10517|     2|         0|  25|\n",
      "+--------------------+----------+----------+------+--------+---------+-----------+--------+------+----------+----+\n",
      "only showing top 20 rows\n",
      "\n"
     ]
    }
   ],
   "source": [
    "# 1. Read the home_sales_revised.csv from the provided AWS S3 bucket location into a PySpark DataFrame.\n",
    "from pyspark import SparkFiles\n",
    "url = \"https://2u-data-curriculum-team.s3.amazonaws.com/dataviz-classroom/v1.2/22-big-data/home_sales_revised.csv\"\n",
    "spark.sparkContext.addFile(url)\n",
    "home_df = spark.read.csv(SparkFiles.get(\"home_sales_revised.csv\"), sep=\",\", header=True, ignoreLeadingWhiteSpace=True)\n",
    "home_df.show()"
   ]
  },
  {
   "cell_type": "code",
   "execution_count": 8,
   "metadata": {
    "id": "RoljcJ7WPpnm"
   },
   "outputs": [],
   "source": [
    "# 2. Create a temporary view of the DataFrame.\n",
    "home_df.createOrReplaceTempView('home_data')"
   ]
  },
  {
   "cell_type": "code",
   "execution_count": 11,
   "metadata": {
    "colab": {
     "base_uri": "https://localhost:8080/"
    },
    "id": "L6fkwOeOmqvq",
    "outputId": "f5d14b66-c71e-4b86-bdb3-f52b4885f8c7"
   },
   "outputs": [
    {
     "name": "stdout",
     "output_type": "stream",
     "text": [
      "+---------+----+\n",
      "|avg_price|year|\n",
      "+---------+----+\n",
      "|296363.88|2022|\n",
      "|301819.44|2021|\n",
      "|298353.78|2020|\n",
      "| 300263.7|2019|\n",
      "+---------+----+\n",
      "\n"
     ]
    }
   ],
   "source": [
    "# 3. What is the average price for a four bedroom house sold per year, rounded to two decimal places?\n",
    "four_bedroom = spark.sql(\"\"\"\n",
    "    SELECT ROUND(AVG(price), 2) AS avg_price, YEAR(date) AS year\n",
    "    FROM home_data\n",
    "    WHERE bedrooms = 4\n",
    "    GROUP BY YEAR(date)\n",
    "    ORDER BY YEAR(date) DESC\n",
    "\"\"\")\n",
    "four_bedroom.show()\n"
   ]
  },
  {
   "cell_type": "code",
   "execution_count": 12,
   "metadata": {
    "colab": {
     "base_uri": "https://localhost:8080/"
    },
    "id": "l8p_tUS8h8it",
    "outputId": "1a218e76-7eeb-48d7-e556-11ff898c7df4"
   },
   "outputs": [
    {
     "name": "stdout",
     "output_type": "stream",
     "text": [
      "+---------+----------+\n",
      "|avg_price|year_built|\n",
      "+---------+----------+\n",
      "|292676.79|      2017|\n",
      "|290555.07|      2016|\n",
      "| 288770.3|      2015|\n",
      "|290852.27|      2014|\n",
      "|295962.27|      2013|\n",
      "|293683.19|      2012|\n",
      "|291117.47|      2011|\n",
      "|292859.62|      2010|\n",
      "+---------+----------+\n",
      "\n"
     ]
    }
   ],
   "source": [
    "# 4. What is the average price of a home for each year the home was built,\n",
    "# that have 3 bedrooms and 3 bathrooms, rounded to two decimal places?\n",
    "three_bedroom_bathroom = spark.sql(\"\"\"\n",
    "    SELECT ROUND(AVG(price), 2) AS avg_price, YEAR(date_built) AS year_built\n",
    "    FROM home_data\n",
    "    WHERE bedrooms = 3 AND bathrooms = 3\n",
    "    GROUP BY YEAR(date_built)\n",
    "    ORDER BY YEAR(date_built) DESC\n",
    "\"\"\")\n",
    "three_bedroom_bathroom.show()\n"
   ]
  },
  {
   "cell_type": "code",
   "execution_count": 13,
   "metadata": {
    "colab": {
     "base_uri": "https://localhost:8080/"
    },
    "id": "Y-Eytz64liDU",
    "outputId": "36b87563-b8c3-4130-addc-7ddf071cf096"
   },
   "outputs": [
    {
     "name": "stdout",
     "output_type": "stream",
     "text": [
      "+---------+----------+\n",
      "|avg_price|year_built|\n",
      "+---------+----------+\n",
      "|280317.58|      2017|\n",
      "| 293965.1|      2016|\n",
      "|297609.97|      2015|\n",
      "|298264.72|      2014|\n",
      "|303676.79|      2013|\n",
      "|307539.97|      2012|\n",
      "|276553.81|      2011|\n",
      "|285010.22|      2010|\n",
      "+---------+----------+\n",
      "\n"
     ]
    }
   ],
   "source": [
    "# 5. What is the average price of a home for each year the home was built,\n",
    "# that have 3 bedrooms, 3 bathrooms, with two floors,\n",
    "# and are greater than or equal to 2,000 square feet, rounded to two decimal places?\n",
    "three_bedroom_bathroom_floors = spark.sql(\"\"\"\n",
    "    SELECT ROUND(AVG(price), 2) AS avg_price, YEAR(date_built) AS year_built\n",
    "    FROM home_data\n",
    "    WHERE bedrooms = 3\n",
    "      AND bathrooms = 3\n",
    "      AND floors = 2\n",
    "      AND sqft_living >= 2000\n",
    "    GROUP BY YEAR(date_built)\n",
    "    ORDER BY YEAR(date_built) DESC\n",
    "\"\"\")\n",
    "three_bedroom_bathroom_floors.show()\n"
   ]
  },
  {
   "cell_type": "code",
   "execution_count": 15,
   "metadata": {
    "colab": {
     "base_uri": "https://localhost:8080/"
    },
    "id": "GUrfgOX1pCRd",
    "outputId": "885dfd91-b151-4d3e-e1bc-17b1651ac50d"
   },
   "outputs": [
    {
     "name": "stdout",
     "output_type": "stream",
     "text": [
      "+----------+----+\n",
      "| avg_price|view|\n",
      "+----------+----+\n",
      "|1061201.42|  99|\n",
      "|1053739.33|  98|\n",
      "|1129040.15|  97|\n",
      "|1017815.92|  96|\n",
      "| 1054325.6|  95|\n",
      "| 1033536.2|  94|\n",
      "|1026006.06|  93|\n",
      "| 970402.55|  92|\n",
      "|1137372.73|  91|\n",
      "|1062654.16|  90|\n",
      "|1107839.15|  89|\n",
      "|1031719.35|  88|\n",
      "| 1072285.2|  87|\n",
      "|1070444.25|  86|\n",
      "|1056336.74|  85|\n",
      "|1117233.13|  84|\n",
      "|1033965.93|  83|\n",
      "| 1063498.0|  82|\n",
      "|1053472.79|  81|\n",
      "| 991767.38|  80|\n",
      "+----------+----+\n",
      "only showing top 20 rows\n",
      "\n",
      "--- 1.2073040008544922 seconds ---\n"
     ]
    }
   ],
   "source": [
    "# 6. What is the average price of a home per \"view\" rating, rounded to two decimal places,\n",
    "# having an average home price greater than or equal to $350,000? Order by descending view rating.\n",
    "# Although this is a small dataset, determine the run time for this query.\n",
    "\n",
    "start_time = time.time()\n",
    "\n",
    "view_avg_price = spark.sql(\"\"\"\n",
    "    SELECT ROUND(AVG(price), 2) AS avg_price, view\n",
    "    FROM home_data\n",
    "    GROUP BY view\n",
    "    HAVING AVG(price) >= 350000\n",
    "    ORDER BY view DESC\n",
    "\"\"\")\n",
    "view_avg_price.show()\n",
    "print(\"--- %s seconds ---\" % (time.time() - start_time))"
   ]
  },
  {
   "cell_type": "code",
   "execution_count": 17,
   "metadata": {
    "colab": {
     "base_uri": "https://localhost:8080/"
    },
    "id": "KAhk3ZD2tFy8",
    "outputId": "b0677ead-5851-4aa8-8ef9-52e1828f299a"
   },
   "outputs": [
    {
     "data": {
      "text/plain": [
       "DataFrame[]"
      ]
     },
     "execution_count": 17,
     "metadata": {},
     "output_type": "execute_result"
    }
   ],
   "source": [
    "# 7. Cache the the temporary table home_sales.\n",
    "spark.sql(\"cache table home_data\")"
   ]
  },
  {
   "cell_type": "code",
   "execution_count": 19,
   "metadata": {
    "colab": {
     "base_uri": "https://localhost:8080/"
    },
    "id": "4opVhbvxtL-i",
    "outputId": "67be2b58-efb9-4f9b-b7cd-80e385658d0c"
   },
   "outputs": [
    {
     "data": {
      "text/plain": [
       "True"
      ]
     },
     "execution_count": 19,
     "metadata": {},
     "output_type": "execute_result"
    }
   ],
   "source": [
    "# 8. Check if the table is cached.\n",
    "spark.catalog.isCached('home_data')"
   ]
  },
  {
   "cell_type": "code",
   "execution_count": 20,
   "metadata": {
    "colab": {
     "base_uri": "https://localhost:8080/"
    },
    "id": "5GnL46lwTSEk",
    "outputId": "ee1b5fa8-127d-40b1-ca5f-3afcb8e5e5a4"
   },
   "outputs": [
    {
     "name": "stdout",
     "output_type": "stream",
     "text": [
      "+----------+----+\n",
      "| avg_price|view|\n",
      "+----------+----+\n",
      "|1061201.42|  99|\n",
      "|1053739.33|  98|\n",
      "|1129040.15|  97|\n",
      "|1017815.92|  96|\n",
      "| 1054325.6|  95|\n",
      "| 1033536.2|  94|\n",
      "|1026006.06|  93|\n",
      "| 970402.55|  92|\n",
      "|1137372.73|  91|\n",
      "|1062654.16|  90|\n",
      "|1107839.15|  89|\n",
      "|1031719.35|  88|\n",
      "| 1072285.2|  87|\n",
      "|1070444.25|  86|\n",
      "|1056336.74|  85|\n",
      "|1117233.13|  84|\n",
      "|1033965.93|  83|\n",
      "| 1063498.0|  82|\n",
      "|1053472.79|  81|\n",
      "| 991767.38|  80|\n",
      "+----------+----+\n",
      "only showing top 20 rows\n",
      "\n",
      "--- 0.6764175891876221 seconds ---\n"
     ]
    }
   ],
   "source": [
    "# 9. Using the cached data, run the last query above, that calculates\n",
    "# the average price of a home per \"view\" rating, rounded to two decimal places,\n",
    "# having an average home price greater than or equal to $350,000.\n",
    "# Determine the runtime and compare it to the uncached runtime.\n",
    "\n",
    "start_time = time.time()\n",
    "\n",
    "view_avg_price_cached = spark.sql(\"\"\"\n",
    "    SELECT ROUND(AVG(price), 2) AS avg_price, view\n",
    "    FROM home_data\n",
    "    GROUP BY view\n",
    "    HAVING AVG(price) >= 350000\n",
    "    ORDER BY view DESC\n",
    "\"\"\")\n",
    "\n",
    "view_avg_price_cached.show()\n",
    "\n",
    "\n",
    "print(\"--- %s seconds ---\" % (time.time() - start_time))\n"
   ]
  },
  {
   "cell_type": "code",
   "execution_count": 22,
   "metadata": {
    "id": "Qm12WN9isHBR"
   },
   "outputs": [],
   "source": [
    "# 10. Partition by the \"date_built\" field on the formatted parquet home sales data\n",
    "home_df.write.partitionBy(\"date_built\").parquet(\"/content/home_sales_parquet\")"
   ]
  },
  {
   "cell_type": "code",
   "execution_count": 23,
   "metadata": {
    "colab": {
     "base_uri": "https://localhost:8080/"
    },
    "id": "AZ7BgY61sRqY",
    "outputId": "614dd74a-c42c-4055-a31f-853e65638266"
   },
   "outputs": [
    {
     "name": "stdout",
     "output_type": "stream",
     "text": [
      "+--------------------+----------+------+--------+---------+-----------+--------+------+----------+----+----------+\n",
      "|                  id|      date| price|bedrooms|bathrooms|sqft_living|sqft_lot|floors|waterfront|view|date_built|\n",
      "+--------------------+----------+------+--------+---------+-----------+--------+------+----------+----+----------+\n",
      "|2ed8d509-7372-46d...|2021-08-06|258710|       3|        3|       1918|    9666|     1|         0|  25|      2015|\n",
      "|941bad30-eb49-4a7...|2020-05-09|229896|       3|        3|       2197|    8641|     1|         0|   3|      2015|\n",
      "|c797ca12-52cd-4b1...|2019-06-08|288650|       2|        3|       2100|   10419|     2|         0|   7|      2015|\n",
      "|0cfe57f3-28c2-472...|2019-10-04|308313|       3|        3|       1960|    9453|     2|         0|   2|      2015|\n",
      "|d715f295-2fbf-4e9...|2021-05-17|391574|       3|        2|       1635|    8040|     2|         0|  10|      2015|\n",
      "|a18515a2-86f3-46b...|2022-02-18|419543|       3|        2|       1642|   12826|     2|         0|  24|      2015|\n",
      "|98f6a9ad-8870-474...|2022-05-07|136752|       2|        3|       1701|   10771|     2|         0|   5|      2015|\n",
      "|7ac67498-b6f3-403...|2021-05-12|349318|       4|        3|       2417|   11304|     2|         0|  37|      2015|\n",
      "|c9bfdb1c-2499-4e3...|2021-12-07|268874|       2|        2|       1537|   12177|     1|         0|  10|      2015|\n",
      "|34c31a34-220d-469...|2019-02-06|409011|       3|        3|       2356|   10507|     1|         0|   1|      2015|\n",
      "|be0ccb95-415d-411...|2020-05-15|425154|       4|        3|       2120|   14229|     2|         0|   4|      2015|\n",
      "|e9031a86-1294-444...|2021-10-09|222322|       4|        3|       1928|   10510|     1|         0|  38|      2015|\n",
      "|e6d7c2a7-596e-4ec...|2019-03-15|131201|       4|        3|       1633|   14655|     1|         0|  22|      2015|\n",
      "|6683714b-3df7-454...|2022-02-01|333403|       4|        2|       2059|    9793|     2|         0|   4|      2015|\n",
      "|00fc996f-508c-430...|2021-07-15|373139|       3|        3|       1763|   11363|     1|         0|  39|      2015|\n",
      "|3d5545f8-bd3b-476...|2020-09-19|797862|       4|        6|       3494|   10385|     2|         0|  90|      2015|\n",
      "|ec6d357c-2435-43e...|2019-05-28|401792|       3|        2|       1627|   10765|     1|         0|  50|      2015|\n",
      "|c2be38fb-814a-403...|2020-03-20|352237|       3|        3|       2485|   10954|     2|         0|   6|      2015|\n",
      "|9570de1f-5a74-45b...|2021-11-29|298453|       3|        2|       2222|   10634|     1|         0|   6|      2015|\n",
      "|1baeff4f-fc00-489...|2020-12-17|152775|       3|        2|       1623|   13851|     1|         0|  41|      2015|\n",
      "+--------------------+----------+------+--------+---------+-----------+--------+------+----------+----+----------+\n",
      "only showing top 20 rows\n",
      "\n"
     ]
    }
   ],
   "source": [
    "# 11. Read the parquet formatted data.\n",
    "home_df_parquet = spark.read.parquet(\"/content/home_sales_parquet\")\n",
    "home_df_parquet.show()"
   ]
  },
  {
   "cell_type": "code",
   "execution_count": 24,
   "metadata": {
    "id": "J6MJkHfvVcvh"
   },
   "outputs": [],
   "source": [
    "# 12. Create a temporary table for the parquet data.\n",
    "home_df_parquet.createOrReplaceTempView(\"home_sales_parquet_temp\")"
   ]
  },
  {
   "cell_type": "code",
   "execution_count": 25,
   "metadata": {
    "colab": {
     "base_uri": "https://localhost:8080/"
    },
    "id": "G_Vhb52rU1Sn",
    "outputId": "85274dfa-e587-429b-bf1c-10de5f1c2044"
   },
   "outputs": [
    {
     "name": "stdout",
     "output_type": "stream",
     "text": [
      "+----------+----+\n",
      "| avg_price|view|\n",
      "+----------+----+\n",
      "|1061201.42|  99|\n",
      "|1053739.33|  98|\n",
      "|1129040.15|  97|\n",
      "|1017815.92|  96|\n",
      "| 1054325.6|  95|\n",
      "| 1033536.2|  94|\n",
      "|1026006.06|  93|\n",
      "| 970402.55|  92|\n",
      "|1137372.73|  91|\n",
      "|1062654.16|  90|\n",
      "|1107839.15|  89|\n",
      "|1031719.35|  88|\n",
      "| 1072285.2|  87|\n",
      "|1070444.25|  86|\n",
      "|1056336.74|  85|\n",
      "|1117233.13|  84|\n",
      "|1033965.93|  83|\n",
      "| 1063498.0|  82|\n",
      "|1053472.79|  81|\n",
      "| 991767.38|  80|\n",
      "+----------+----+\n",
      "only showing top 20 rows\n",
      "\n",
      "--- 1.2736320495605469 seconds ---\n"
     ]
    }
   ],
   "source": [
    "# 13. Using the parquet DataFrame, run the last query above, that calculates\n",
    "# the average price of a home per \"view\" rating, rounded to two decimal places,\n",
    "# having an average home price greater than or equal to $350,000.\n",
    "# Determine the runtime and compare it to the cached runtime.\n",
    "\n",
    "start_time = time.time()\n",
    "\n",
    "view_avg_price_parquet = spark.sql(\"\"\"\n",
    "    SELECT ROUND(AVG(price), 2) AS avg_price, view\n",
    "    FROM home_sales_parquet_temp\n",
    "    GROUP BY view\n",
    "    HAVING AVG(price) >= 350000\n",
    "    ORDER BY view DESC\n",
    "\"\"\")\n",
    "\n",
    "view_avg_price_parquet.show()\n",
    "\n",
    "print(\"--- %s seconds ---\" % (time.time() - start_time))"
   ]
  },
  {
   "cell_type": "code",
   "execution_count": 26,
   "metadata": {
    "id": "hjjYzQGjtbq8"
   },
   "outputs": [],
   "source": [
    "# 14. Uncache the home_sales temporary table.\n",
    "spark.catalog.uncacheTable(\"home_sales_parquet_temp\")"
   ]
  },
  {
   "cell_type": "code",
   "execution_count": 28,
   "metadata": {
    "colab": {
     "base_uri": "https://localhost:8080/"
    },
    "id": "Sy9NBvO7tlmm",
    "outputId": "691c597a-9487-49d0-cc41-bd0248a64ae9"
   },
   "outputs": [
    {
     "name": "stdout",
     "output_type": "stream",
     "text": [
      "Is the table cached? False\n"
     ]
    }
   ],
   "source": [
    "# 15. Check if the home_sales is no longer cached\n",
    "is_cached = spark.catalog.isCached(\"home_sales_parquet_temp\")\n",
    "print(f\"Is the table cached? {is_cached}\")"
   ]
  },
  {
   "cell_type": "code",
   "execution_count": null,
   "metadata": {
    "id": "Si-BNruRUGK3"
   },
   "outputs": [],
   "source": []
  }
 ],
 "metadata": {
  "colab": {
   "provenance": []
  },
  "gpuClass": "standard",
  "kernelspec": {
   "display_name": "Python 3 (ipykernel)",
   "language": "python",
   "name": "python3"
  },
  "language_info": {
   "codemirror_mode": {
    "name": "ipython",
    "version": 3
   },
   "file_extension": ".py",
   "mimetype": "text/x-python",
   "name": "python",
   "nbconvert_exporter": "python",
   "pygments_lexer": "ipython3",
   "version": "3.12.4"
  },
  "nteract": {
   "version": "0.28.0"
  }
 },
 "nbformat": 4,
 "nbformat_minor": 4
}
